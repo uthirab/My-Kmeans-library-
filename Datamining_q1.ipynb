{
 "cells": [
  {
   "cell_type": "code",
   "execution_count": 1,
   "metadata": {},
   "outputs": [],
   "source": [
    "#my Kmeans\n",
    "import numpy as np\n",
    "import matplotlib.pyplot as plt\n",
    "import pandas as pd\n",
    "import math as m\n",
    "import seaborn as sb\n",
    "from random import randint\n",
    "from sklearn.preprocessing import LabelEncoder\n",
    "%matplotlib inline\n",
    "#importing data\n",
    "NBA=pd.read_csv(\"D:/UTA/Fall_2018/Data_Mining/NBAstats.csv\")\n",
    "#NBA.info() #upon execution we found that there is no NAN values in the data frame\n",
    "#spliting the data into two and droppin the feature 'Tm'\n",
    "First=NBA.iloc[:,0:2]\n",
    "rem=NBA.iloc[:,2:]\n",
    "rem=rem.drop(['Tm'],1)"
   ]
  },
  {
   "cell_type": "code",
   "execution_count": 2,
   "metadata": {},
   "outputs": [],
   "source": [
    "#Standarization for the dataframe Rem\n",
    "dic={}\n",
    "for column in rem:\n",
    "    dic[column]=rem[column].mean()\n",
    "new=pd.DataFrame()\n",
    "for col in rem:\n",
    "    mean= rem[col].mean()\n",
    "    new[col]=(rem[col]-mean)**2\n",
    "dic_sd={}\n",
    "for column in new:\n",
    "    dic_sd[column]=m.sqrt(new[column].mean())\n",
    "for col in rem:\n",
    "    rem[col]=(rem[col]-dic[col])/dic_sd[col]\n"
   ]
  },
  {
   "cell_type": "code",
   "execution_count": 3,
   "metadata": {},
   "outputs": [
    {
     "data": {
      "text/html": [
       "<div>\n",
       "<style scoped>\n",
       "    .dataframe tbody tr th:only-of-type {\n",
       "        vertical-align: middle;\n",
       "    }\n",
       "\n",
       "    .dataframe tbody tr th {\n",
       "        vertical-align: top;\n",
       "    }\n",
       "\n",
       "    .dataframe thead th {\n",
       "        text-align: right;\n",
       "    }\n",
       "</style>\n",
       "<table border=\"1\" class=\"dataframe\">\n",
       "  <thead>\n",
       "    <tr style=\"text-align: right;\">\n",
       "      <th></th>\n",
       "      <th>Player</th>\n",
       "      <th>Pos</th>\n",
       "      <th>Age</th>\n",
       "      <th>Tm</th>\n",
       "      <th>G</th>\n",
       "      <th>GS</th>\n",
       "      <th>MP</th>\n",
       "      <th>FG</th>\n",
       "      <th>FGA</th>\n",
       "      <th>FG%</th>\n",
       "      <th>...</th>\n",
       "      <th>FT%</th>\n",
       "      <th>ORB</th>\n",
       "      <th>DRB</th>\n",
       "      <th>TRB</th>\n",
       "      <th>AST</th>\n",
       "      <th>STL</th>\n",
       "      <th>BLK</th>\n",
       "      <th>TOV</th>\n",
       "      <th>PF</th>\n",
       "      <th>PS/G</th>\n",
       "    </tr>\n",
       "  </thead>\n",
       "  <tbody>\n",
       "  </tbody>\n",
       "</table>\n",
       "<p>0 rows × 29 columns</p>\n",
       "</div>"
      ],
      "text/plain": [
       "Empty DataFrame\n",
       "Columns: [Player, Pos, Age, Tm, G, GS, MP, FG, FGA, FG%, 3P, 3PA, 3P%, 2P, 2PA, 2P%, eFG%, FT, FTA, FT%, ORB, DRB, TRB, AST, STL, BLK, TOV, PF, PS/G]\n",
       "Index: []\n",
       "\n",
       "[0 rows x 29 columns]"
      ]
     },
     "execution_count": 3,
     "metadata": {},
     "output_type": "execute_result"
    }
   ],
   "source": [
    "#the player is an index. and we need not take the column for clustering \n",
    "NBA[NBA.duplicated(['Player'], keep=False)]"
   ]
  },
  {
   "cell_type": "code",
   "execution_count": 4,
   "metadata": {},
   "outputs": [],
   "source": [
    "result=pd.concat([First,rem],axis=1)\n",
    "result=result.drop('Player',1)"
   ]
  },
  {
   "cell_type": "code",
   "execution_count": 5,
   "metadata": {},
   "outputs": [
    {
     "name": "stderr",
     "output_type": "stream",
     "text": [
      "C:\\Users\\uthir\\Anaconda3\\lib\\site-packages\\sklearn\\preprocessing\\label.py:111: DataConversionWarning: A column-vector y was passed when a 1d array was expected. Please change the shape of y to (n_samples, ), for example using ravel().\n",
      "  y = column_or_1d(y, warn=True)\n"
     ]
    }
   ],
   "source": [
    "labelencoder = LabelEncoder()\n",
    "result.iloc[:,0:1] = labelencoder.fit_transform(result.iloc[:,0:1])\n",
    "#result.iloc[:,1:2]=labelencoder.fit_transform(result.iloc[:,1:2])"
   ]
  },
  {
   "cell_type": "code",
   "execution_count": 6,
   "metadata": {},
   "outputs": [
    {
     "data": {
      "text/html": [
       "<div>\n",
       "<style scoped>\n",
       "    .dataframe tbody tr th:only-of-type {\n",
       "        vertical-align: middle;\n",
       "    }\n",
       "\n",
       "    .dataframe tbody tr th {\n",
       "        vertical-align: top;\n",
       "    }\n",
       "\n",
       "    .dataframe thead th {\n",
       "        text-align: right;\n",
       "    }\n",
       "</style>\n",
       "<table border=\"1\" class=\"dataframe\">\n",
       "  <thead>\n",
       "    <tr style=\"text-align: right;\">\n",
       "      <th></th>\n",
       "      <th>Pos</th>\n",
       "      <th>Age</th>\n",
       "      <th>G</th>\n",
       "      <th>GS</th>\n",
       "      <th>MP</th>\n",
       "      <th>FG</th>\n",
       "      <th>FGA</th>\n",
       "      <th>FG%</th>\n",
       "      <th>3P</th>\n",
       "      <th>3PA</th>\n",
       "      <th>...</th>\n",
       "      <th>FT%</th>\n",
       "      <th>ORB</th>\n",
       "      <th>DRB</th>\n",
       "      <th>TRB</th>\n",
       "      <th>AST</th>\n",
       "      <th>STL</th>\n",
       "      <th>BLK</th>\n",
       "      <th>TOV</th>\n",
       "      <th>PF</th>\n",
       "      <th>PS/G</th>\n",
       "    </tr>\n",
       "  </thead>\n",
       "  <tbody>\n",
       "    <tr>\n",
       "      <th>0</th>\n",
       "      <td>1</td>\n",
       "      <td>-0.362807</td>\n",
       "      <td>0.17263</td>\n",
       "      <td>0.105659</td>\n",
       "      <td>-0.583945</td>\n",
       "      <td>-0.544832</td>\n",
       "      <td>-0.761061</td>\n",
       "      <td>1.28393</td>\n",
       "      <td>-0.545095</td>\n",
       "      <td>-0.626148</td>\n",
       "      <td>...</td>\n",
       "      <td>0.083812</td>\n",
       "      <td>0.294535</td>\n",
       "      <td>-0.372440</td>\n",
       "      <td>-0.176912</td>\n",
       "      <td>-0.755759</td>\n",
       "      <td>-0.352024</td>\n",
       "      <td>-0.035732</td>\n",
       "      <td>-0.826587</td>\n",
       "      <td>-0.061843</td>\n",
       "      <td>-0.559970</td>\n",
       "    </tr>\n",
       "    <tr>\n",
       "      <th>1</th>\n",
       "      <td>4</td>\n",
       "      <td>-1.275831</td>\n",
       "      <td>-2.17609</td>\n",
       "      <td>-0.881089</td>\n",
       "      <td>-1.376566</td>\n",
       "      <td>-1.032297</td>\n",
       "      <td>-0.896922</td>\n",
       "      <td>-1.25628</td>\n",
       "      <td>-0.965647</td>\n",
       "      <td>-0.787264</td>\n",
       "      <td>...</td>\n",
       "      <td>-0.671130</td>\n",
       "      <td>-1.125156</td>\n",
       "      <td>-0.994761</td>\n",
       "      <td>-1.091671</td>\n",
       "      <td>-0.186483</td>\n",
       "      <td>1.929170</td>\n",
       "      <td>-0.929039</td>\n",
       "      <td>-0.187958</td>\n",
       "      <td>-1.005092</td>\n",
       "      <td>-0.861059</td>\n",
       "    </tr>\n",
       "  </tbody>\n",
       "</table>\n",
       "<p>2 rows × 27 columns</p>\n",
       "</div>"
      ],
      "text/plain": [
       "   Pos       Age        G        GS        MP        FG       FGA      FG%  \\\n",
       "0    1 -0.362807  0.17263  0.105659 -0.583945 -0.544832 -0.761061  1.28393   \n",
       "1    4 -1.275831 -2.17609 -0.881089 -1.376566 -1.032297 -0.896922 -1.25628   \n",
       "\n",
       "         3P       3PA    ...          FT%       ORB       DRB       TRB  \\\n",
       "0 -0.545095 -0.626148    ...     0.083812  0.294535 -0.372440 -0.176912   \n",
       "1 -0.965647 -0.787264    ...    -0.671130 -1.125156 -0.994761 -1.091671   \n",
       "\n",
       "        AST       STL       BLK       TOV        PF      PS/G  \n",
       "0 -0.755759 -0.352024 -0.035732 -0.826587 -0.061843 -0.559970  \n",
       "1 -0.186483  1.929170 -0.929039 -0.187958 -1.005092 -0.861059  \n",
       "\n",
       "[2 rows x 27 columns]"
      ]
     },
     "execution_count": 6,
     "metadata": {},
     "output_type": "execute_result"
    }
   ],
   "source": [
    "result.head(2)"
   ]
  },
  {
   "cell_type": "code",
   "execution_count": 7,
   "metadata": {},
   "outputs": [],
   "source": [
    "#class mykmeans \n",
    "class mykmeans():\n",
    "    def __init__(self,df,k):\n",
    "        self.k=k\n",
    "        self.df=df\n",
    "        self.iter=60\n",
    "        self.cluster=pd.DataFrame()\n",
    "        self.clusterlabel=pd.DataFrame(columns=['Center'])\n",
    "        self.Initiate()\n",
    "    \n",
    "    # To take the initial centers, random rows are picked up as the centers.\n",
    "    def clustering(self):\n",
    "        x = [randint(0, 475) for p in range(0, self.k)]#\n",
    "        center=1\n",
    "        for i in x:\n",
    "            self.cluster[center]=self.df.iloc[i]\n",
    "            center+=1\n",
    "        self.cluster=self.cluster.transpose()\n",
    "        print(self.cluster)\n",
    "        return \n",
    "    \n",
    "    #Euclidean_distance is calculated\n",
    "    def Euclidean_distance(self,x,y):\n",
    "        sd = 0\n",
    "        for i in range(len(x)):\n",
    "            sub=x[i]-y[i]\n",
    "            sq_sub=sub**2\n",
    "            sd=sd+sq_sub\n",
    "        ed = m.sqrt(sd)\n",
    "        return(ed)\n",
    "    \n",
    "    #The center of the cluster is recalculated after each iteration \n",
    "    def recalculate_cluster(self, choice,row):\n",
    "        for g in range(self.k):\n",
    "            if g == choice:\n",
    "                t=(row+self.cluster.iloc[g])/2\n",
    "                self.cluster.iloc[g]=t\n",
    "                return\n",
    "    \n",
    "    #the predicted label is stored in a dataframe\n",
    "    def label(self,a,choice):\n",
    "        self.clusterlabel.loc[a]=(choice)\n",
    "               \n",
    "    #Each row in the tabel is caluculated with the each centers and minimum distance from a center is used to assign the label\n",
    "    def calculate(self):\n",
    "        a=0\n",
    "        for i, row in self.df.iterrows():\n",
    "            clus=[]\n",
    "            for j in range(self.k):\n",
    "                c=self.Euclidean_distance(row,self.cluster.iloc[j])\n",
    "                clus.append(c)\n",
    "            r=min(clus)\n",
    "            choice=clus.index(r)\n",
    "            self.label(a,choice)\n",
    "            a+=1\n",
    "            self.recalculate_cluster(choice,row)\n",
    "    # Initializing the Clustering and the whole process is iterated for 60 iteration\n",
    "    def Initiate(self):\n",
    "        self.clustering()\n",
    "        for n in range(self.iter):\n",
    "            self.calculate()\n",
    "        print(self.cluster) #printing the final clusters\n",
    "        print(self.clusterlabel.head(5)) #printing the cluster label\n",
    "    "
   ]
  },
  {
   "cell_type": "code",
   "execution_count": 8,
   "metadata": {},
   "outputs": [
    {
     "name": "stdout",
     "output_type": "stream",
     "text": [
      "   Pos       Age         G        GS        MP        FG       FGA       FG%  \\\n",
      "1  3.0 -1.504086  1.079153  1.875001  1.620192  2.038733  2.046736  0.178996   \n",
      "2  4.0  2.604520  0.131424 -0.881089 -0.062770  0.137619  0.122037  0.110649   \n",
      "3  2.0 -0.591063 -1.640417 -0.881089 -1.713158 -1.276030 -1.236575 -1.427146   \n",
      "\n",
      "         3P       3PA    ...          FT%       ORB       DRB       TRB  \\\n",
      "1  0.015642  0.179432    ...     0.229208  0.552660 -0.259291 -0.010592   \n",
      "2  0.716562  0.609075    ...     0.520000 -0.608905 -0.372440 -0.467972   \n",
      "3 -0.825463 -0.894674    ...    -0.587248 -0.996093 -1.277634 -1.257991   \n",
      "\n",
      "        AST       STL       BLK       TOV        PF      PS/G  \n",
      "1  0.098155  0.788573  0.410921  1.344750  0.342407  2.185255  \n",
      "2  0.724359  1.016692 -0.482386  0.706121 -0.061843  0.219320  \n",
      "3 -0.641904 -0.808263 -0.705713 -0.826587 -1.948341 -1.215282  \n",
      "\n",
      "[3 rows x 27 columns]\n",
      "        Pos       Age         G        GS        MP        FG       FGA  \\\n",
      "1  2.065174  0.443076  0.846234  1.401375  1.064222  0.773354  0.858549   \n",
      "2  0.266385 -0.514295  0.680585  1.123333  0.735779  0.690813  0.328352   \n",
      "3  1.617726 -0.107572 -0.137337 -0.807516 -0.754285 -0.505475 -0.425770   \n",
      "\n",
      "        FG%        3P       3PA    ...          FT%       ORB       DRB  \\\n",
      "1 -0.079174  1.369194  1.354987    ...     0.619039  0.328745  0.568926   \n",
      "2  1.066495 -0.924975 -0.970437    ...    -0.063702  1.784315  1.558405   \n",
      "3 -0.338823 -0.395472 -0.315026    ...     0.271270 -0.321862 -0.633142   \n",
      "\n",
      "        TRB       AST       STL       BLK       TOV        PF      PS/G  \n",
      "1  0.494791  0.512843  0.473952  0.567004  0.397150  0.023541  1.013949  \n",
      "2  1.714367 -0.422383  0.558183  1.703953  0.197446  1.257393  0.501529  \n",
      "3 -0.547660 -0.628590 -0.838614 -0.393397 -0.451195 -0.702878 -0.449253  \n",
      "\n",
      "[3 rows x 27 columns]\n",
      "   Center\n",
      "0       2\n",
      "1       2\n",
      "2       1\n",
      "3       0\n",
      "4       1\n"
     ]
    }
   ],
   "source": [
    "#Calling the function mykmeans when k=3\n",
    "kmeans=mykmeans(result,3)"
   ]
  },
  {
   "cell_type": "code",
   "execution_count": null,
   "metadata": {},
   "outputs": [],
   "source": [
    "#finding out how the cluster has been formed\n",
    "c=kmeans.clusterlabel\n",
    "c.groupby('Center').size()"
   ]
  },
  {
   "cell_type": "code",
   "execution_count": 9,
   "metadata": {},
   "outputs": [],
   "source": [
    "#concating the values\n",
    "Clustered_df=pd.concat([result,kmeans.clusterlabel],axis=1)"
   ]
  },
  {
   "cell_type": "code",
   "execution_count": 10,
   "metadata": {},
   "outputs": [
    {
     "data": {
      "text/html": [
       "<div>\n",
       "<style scoped>\n",
       "    .dataframe tbody tr th:only-of-type {\n",
       "        vertical-align: middle;\n",
       "    }\n",
       "\n",
       "    .dataframe tbody tr th {\n",
       "        vertical-align: top;\n",
       "    }\n",
       "\n",
       "    .dataframe thead th {\n",
       "        text-align: right;\n",
       "    }\n",
       "</style>\n",
       "<table border=\"1\" class=\"dataframe\">\n",
       "  <thead>\n",
       "    <tr style=\"text-align: right;\">\n",
       "      <th></th>\n",
       "      <th>Pos</th>\n",
       "      <th>Age</th>\n",
       "      <th>G</th>\n",
       "      <th>GS</th>\n",
       "      <th>MP</th>\n",
       "      <th>FG</th>\n",
       "      <th>FGA</th>\n",
       "      <th>FG%</th>\n",
       "      <th>3P</th>\n",
       "      <th>3PA</th>\n",
       "      <th>...</th>\n",
       "      <th>ORB</th>\n",
       "      <th>DRB</th>\n",
       "      <th>TRB</th>\n",
       "      <th>AST</th>\n",
       "      <th>STL</th>\n",
       "      <th>BLK</th>\n",
       "      <th>TOV</th>\n",
       "      <th>PF</th>\n",
       "      <th>PS/G</th>\n",
       "      <th>Center</th>\n",
       "    </tr>\n",
       "  </thead>\n",
       "  <tbody>\n",
       "    <tr>\n",
       "      <th>0</th>\n",
       "      <td>1</td>\n",
       "      <td>-0.362807</td>\n",
       "      <td>0.172630</td>\n",
       "      <td>0.105659</td>\n",
       "      <td>-0.583945</td>\n",
       "      <td>-0.544832</td>\n",
       "      <td>-0.761061</td>\n",
       "      <td>1.283930</td>\n",
       "      <td>-0.545095</td>\n",
       "      <td>-0.626148</td>\n",
       "      <td>...</td>\n",
       "      <td>0.294535</td>\n",
       "      <td>-0.372440</td>\n",
       "      <td>-0.176912</td>\n",
       "      <td>-0.755759</td>\n",
       "      <td>-0.352024</td>\n",
       "      <td>-0.035732</td>\n",
       "      <td>-0.826587</td>\n",
       "      <td>-0.061843</td>\n",
       "      <td>-0.559970</td>\n",
       "      <td>2</td>\n",
       "    </tr>\n",
       "    <tr>\n",
       "      <th>1</th>\n",
       "      <td>4</td>\n",
       "      <td>-1.275831</td>\n",
       "      <td>-2.176090</td>\n",
       "      <td>-0.881089</td>\n",
       "      <td>-1.376566</td>\n",
       "      <td>-1.032297</td>\n",
       "      <td>-0.896922</td>\n",
       "      <td>-1.256280</td>\n",
       "      <td>-0.965647</td>\n",
       "      <td>-0.787264</td>\n",
       "      <td>...</td>\n",
       "      <td>-1.125156</td>\n",
       "      <td>-0.994761</td>\n",
       "      <td>-1.091671</td>\n",
       "      <td>-0.186483</td>\n",
       "      <td>1.929170</td>\n",
       "      <td>-0.929039</td>\n",
       "      <td>-0.187958</td>\n",
       "      <td>-1.005092</td>\n",
       "      <td>-0.861059</td>\n",
       "      <td>2</td>\n",
       "    </tr>\n",
       "    <tr>\n",
       "      <th>2</th>\n",
       "      <td>0</td>\n",
       "      <td>-1.047575</td>\n",
       "      <td>1.037948</td>\n",
       "      <td>1.840975</td>\n",
       "      <td>0.545268</td>\n",
       "      <td>0.088873</td>\n",
       "      <td>-0.376121</td>\n",
       "      <td>1.933221</td>\n",
       "      <td>-0.965647</td>\n",
       "      <td>-1.055790</td>\n",
       "      <td>...</td>\n",
       "      <td>2.359539</td>\n",
       "      <td>0.645904</td>\n",
       "      <td>1.278387</td>\n",
       "      <td>-0.584976</td>\n",
       "      <td>-0.352024</td>\n",
       "      <td>1.527555</td>\n",
       "      <td>-0.060233</td>\n",
       "      <td>1.420405</td>\n",
       "      <td>-0.064058</td>\n",
       "      <td>1</td>\n",
       "    </tr>\n",
       "  </tbody>\n",
       "</table>\n",
       "<p>3 rows × 28 columns</p>\n",
       "</div>"
      ],
      "text/plain": [
       "   Pos       Age         G        GS        MP        FG       FGA       FG%  \\\n",
       "0    1 -0.362807  0.172630  0.105659 -0.583945 -0.544832 -0.761061  1.283930   \n",
       "1    4 -1.275831 -2.176090 -0.881089 -1.376566 -1.032297 -0.896922 -1.256280   \n",
       "2    0 -1.047575  1.037948  1.840975  0.545268  0.088873 -0.376121  1.933221   \n",
       "\n",
       "         3P       3PA   ...         ORB       DRB       TRB       AST  \\\n",
       "0 -0.545095 -0.626148   ...    0.294535 -0.372440 -0.176912 -0.755759   \n",
       "1 -0.965647 -0.787264   ...   -1.125156 -0.994761 -1.091671 -0.186483   \n",
       "2 -0.965647 -1.055790   ...    2.359539  0.645904  1.278387 -0.584976   \n",
       "\n",
       "        STL       BLK       TOV        PF      PS/G  Center  \n",
       "0 -0.352024 -0.035732 -0.826587 -0.061843 -0.559970       2  \n",
       "1  1.929170 -0.929039 -0.187958 -1.005092 -0.861059       2  \n",
       "2 -0.352024  1.527555 -0.060233  1.420405 -0.064058       1  \n",
       "\n",
       "[3 rows x 28 columns]"
      ]
     },
     "execution_count": 10,
     "metadata": {},
     "output_type": "execute_result"
    }
   ],
   "source": [
    "Clustered_df.head(3)"
   ]
  },
  {
   "cell_type": "code",
   "execution_count": 11,
   "metadata": {},
   "outputs": [
    {
     "data": {
      "text/plain": [
       "Center\n",
       "0    105\n",
       "1    180\n",
       "2    190\n",
       "dtype: int64"
      ]
     },
     "execution_count": 11,
     "metadata": {},
     "output_type": "execute_result"
    }
   ],
   "source": []
  },
  {
   "cell_type": "code",
   "execution_count": 12,
   "metadata": {
    "scrolled": true
   },
   "outputs": [
    {
     "name": "stdout",
     "output_type": "stream",
     "text": [
      "   Pos       Age         G        GS        MP        FG       FGA       FG%  \\\n",
      "1  2.0  1.691497  0.708303  1.568769  0.860145 -0.106113 -0.149686  0.178996   \n",
      "2  1.0  0.778473  0.996742 -0.847063  0.121813  0.527591  0.642838 -0.185519   \n",
      "3  1.0 -0.819319  1.079153  1.602794  0.371543  0.576338  0.688125 -0.094390   \n",
      "4  2.0  0.093705  0.996742  1.772923  0.903576  1.161296  1.254213 -0.048826   \n",
      "5  0.0 -1.047575  1.079153  1.875001  1.381320  1.795000  1.390074  0.885242   \n",
      "\n",
      "         3P       3PA    ...          FT%       ORB       DRB       TRB  \\\n",
      "1  0.716562  0.447959    ...     0.866714 -0.737967  0.080157 -0.176912   \n",
      "2  2.258587  2.059119    ...     0.301906 -0.221716  0.193307  0.072568   \n",
      "3 -0.404911 -0.357621    ...    -0.447444  1.972351  1.777397  1.943666   \n",
      "4  0.996930  0.823896    ...     0.654212 -0.608905 -0.259291 -0.384812   \n",
      "5 -0.965647 -1.002085    ...    -2.041210  5.198920  4.040383  4.646364   \n",
      "\n",
      "        AST       STL       BLK       TOV        PF      PS/G  \n",
      "1  1.350563  0.560453 -0.705713  0.067493  0.207657 -0.134903  \n",
      "2 -0.414193 -0.580144 -0.259059 -0.060233  0.342407  0.679809  \n",
      "3  0.268938  0.560453  0.410921  0.195219  1.150906  0.343298  \n",
      "4  2.318332  1.244811 -0.259059  2.111104  0.477156  1.299699  \n",
      "5 -0.584976  1.929170  2.197535  0.961573  1.689905  1.388254  \n",
      "\n",
      "[5 rows x 27 columns]\n",
      "        Pos       Age         G        GS        MP        FG       FGA  \\\n",
      "1  3.085555 -0.709344 -1.438292 -0.811765 -1.260149 -1.297759 -1.219646   \n",
      "2  2.065358  0.443054  0.846165  1.401165  1.064105  0.773201  0.858404   \n",
      "3  3.137570  0.822062 -0.945913 -0.766943  1.231699  0.595657  0.739599   \n",
      "4  0.266194 -0.514200  0.680598  1.123278  0.735779  0.690850  0.328385   \n",
      "5  1.485554 -0.052158 -0.168723 -0.801951 -0.697857 -0.447625 -0.359207   \n",
      "\n",
      "        FG%        3P       3PA    ...          FT%       ORB       DRB  \\\n",
      "1 -2.444726 -0.678468 -0.590373    ...    -2.007770 -0.973112 -1.173790   \n",
      "2 -0.079229  1.369226  1.355029    ...     0.619066  0.328434  0.568686   \n",
      "3 -0.263730  0.447141  0.283904    ...    -2.015051 -0.079535  0.281759   \n",
      "4  1.066570 -0.925009 -0.970456    ...    -0.063793  1.784390  1.558425   \n",
      "5 -0.262226 -0.385978 -0.299239    ...     0.397166 -0.292771 -0.589502   \n",
      "\n",
      "        TRB       AST       STL       BLK       TOV        PF      PS/G  \n",
      "1 -1.174914 -0.606273 -0.954745 -0.924219 -1.173266 -1.207231 -1.248243  \n",
      "2  0.494511  0.512848  0.473931  0.566892  0.397081  0.023373  1.013820  \n",
      "3  0.176870 -0.148642  0.648348  1.879864 -0.854815  3.050737  0.300382  \n",
      "4  1.714405 -0.422371  0.558219  1.704069  0.197487  1.257499  0.501557  \n",
      "5 -0.507564 -0.579699 -0.811709 -0.360117 -0.299177 -0.653095 -0.387040  \n",
      "\n",
      "[5 rows x 27 columns]\n",
      "   Center\n",
      "0       3\n",
      "1       0\n",
      "2       4\n",
      "3       1\n",
      "4       3\n"
     ]
    }
   ],
   "source": [
    "#Calling the function mykmeans and k=5\n",
    "kmeans5=mykmeans(result,5)"
   ]
  },
  {
   "cell_type": "code",
   "execution_count": 13,
   "metadata": {},
   "outputs": [
    {
     "data": {
      "text/plain": [
       "Center\n",
       "0     47\n",
       "1    156\n",
       "2     65\n",
       "3    100\n",
       "4    107\n",
       "dtype: int64"
      ]
     },
     "execution_count": 13,
     "metadata": {},
     "output_type": "execute_result"
    }
   ],
   "source": [
    "#finding out how the cluster has been formed\n",
    "c=kmeans5.clusterlabel\n",
    "c.groupby('Center').size()"
   ]
  },
  {
   "cell_type": "code",
   "execution_count": 14,
   "metadata": {
    "scrolled": true
   },
   "outputs": [
    {
     "name": "stdout",
     "output_type": "stream",
     "text": [
      "        2P%       3P%       FT%       TRB       AST       STL       BLK\n",
      "1  0.325710  0.585677  0.419341  1.569447  0.325866  0.104215  0.410921\n",
      "2 -0.741068 -1.664506  1.565735 -1.216411 -1.040397 -1.492621 -0.482386\n",
      "3 -0.138536  0.240444  0.626251 -0.426392  1.122852  1.701050 -0.482386\n",
      "        2P%       3P%       FT%       TRB       AST       STL       BLK\n",
      "1  0.185226  0.075621  0.113607  1.294050  1.535875  1.750315 -0.008380\n",
      "2 -0.360065 -0.808930  0.277972 -0.550212 -0.627526 -0.836412 -0.408556\n",
      "3  0.982687 -1.135853 -0.160178  0.970199 -0.502574  0.043903  1.993225\n",
      "   Center\n",
      "0       0\n",
      "1       0\n",
      "2       1\n",
      "3       0\n",
      "4       1\n"
     ]
    }
   ],
   "source": [
    "#new dataset has been formed according to the specification \n",
    "rew_result=result[['2P%','3P%','FT%','TRB','AST','STL','BLK']]\n",
    "kmeansresult=mykmeans(rew_result,3)    "
   ]
  },
  {
   "cell_type": "code",
   "execution_count": 16,
   "metadata": {},
   "outputs": [
    {
     "data": {
      "text/plain": [
       "Center\n",
       "0    112\n",
       "1     95\n",
       "2    268\n",
       "dtype: int64"
      ]
     },
     "execution_count": 16,
     "metadata": {},
     "output_type": "execute_result"
    }
   ],
   "source": [
    "#To get the cluster and the data points in it.\n",
    "c=kmeansresult.clusterlabel\n",
    "c.groupby('Center').size()"
   ]
  },
  {
   "cell_type": "code",
   "execution_count": 20,
   "metadata": {},
   "outputs": [
    {
     "name": "stdout",
     "output_type": "stream",
     "text": [
      "        2P%       3P%       FT%       TRB       AST       STL       BLK\n",
      "1 -0.741068 -0.980204  0.167694 -1.382731 -0.983469 -1.492621 -0.929039\n",
      "2  0.019506  0.487039  0.581514  0.571528  1.065925  1.244811 -0.259059\n",
      "3 -0.296577  0.246608  0.547961 -0.384812 -0.471121 -0.352024 -0.259059\n",
      "4 -0.859599  0.197289 -0.011255 -0.966931  0.610504  0.332334 -0.705713\n",
      "5 -0.069393  0.561018  0.094996  1.028907 -0.072628  0.560453  0.410921\n",
      "        2P%       3P%       FT%       TRB       AST       STL       BLK\n",
      "1 -4.147953 -1.005760 -3.929552 -1.325225 -0.398945 -0.486981 -0.844952\n",
      "2  0.924281 -1.173197 -0.130302  2.698036 -0.407445 -0.107061  4.532365\n",
      "3 -0.082428  0.354359  0.670501  0.381648  3.179539  1.602095 -0.186385\n",
      "4 -0.368678 -0.803037  0.278128 -0.554702 -0.628404 -0.839642 -0.414002\n",
      "5  0.723084 -0.877459 -0.115431  1.102445 -0.387767  0.546026  0.904577\n",
      "   Center\n",
      "0       2\n",
      "1       2\n",
      "2       0\n",
      "3       2\n",
      "4       0\n"
     ]
    }
   ],
   "source": [
    "#new dataset has been formed according to the specification \n",
    "rew_result=result[['2P%','3P%','FT%','TRB','AST','STL','BLK']]\n",
    "kmeansresult=mykmeans(rew_result,5) "
   ]
  },
  {
   "cell_type": "code",
   "execution_count": 21,
   "metadata": {},
   "outputs": [
    {
     "data": {
      "text/plain": [
       "Center\n",
       "0     51\n",
       "1     81\n",
       "2    137\n",
       "3    106\n",
       "4    100\n",
       "dtype: int64"
      ]
     },
     "execution_count": 21,
     "metadata": {},
     "output_type": "execute_result"
    }
   ],
   "source": [
    "#To get the cluster and the data points in it.\n",
    "c=kmeansresult.clusterlabel\n",
    "c.groupby('Center').size()"
   ]
  },
  {
   "cell_type": "code",
   "execution_count": 22,
   "metadata": {},
   "outputs": [
    {
     "data": {
      "image/png": "[encoded data removed]",
      "text/plain": [
       "<matplotlib.figure.Figure at 0x15d05328ba8>"
      ]
     },
     "metadata": {},
     "output_type": "display_data"
    }
   ],
   "source": [
    "#To find the correlation between each other in the dataset\n",
    "#This code is taken from https://seaborn.pydata.org/examples/many_pairwise_correlations.html\n",
    "cor=NBA.corr()\n",
    "sb.set(style=\"white\")\n",
    "#generate a mask for the upper triangle\n",
    "mask=np.zeros_like(cor,dtype=np.bool)\n",
    "mask[np.triu_indices_from(mask)]=True\n",
    "#set up the matplotlib figure\n",
    "fig,ax=plt.subplots(figsize=(16,8))\n",
    "#Generate a customr diverging colormap\n",
    "cmap=sb.diverging_palette(220,10,as_cmap=True)\n",
    "#draw the heatmap with mask and correct aspect raatio\n",
    "ax=sb.heatmap(cor, mask=mask, cmap=cmap, square=False, linewidths=1.5, cbar_kws={\"shrink\":.5})\n"
   ]
  },
  {
   "cell_type": "code",
   "execution_count": null,
   "metadata": {},
   "outputs": [],
   "source": []
  }
 ],
 "metadata": {
  "kernelspec": {
   "display_name": "Python 3",
   "language": "python",
   "name": "python3"
  },
  "language_info": {
   "codemirror_mode": {
    "name": "ipython",
    "version": 3
   },
   "file_extension": ".py",
   "mimetype": "text/x-python",
   "name": "python",
   "nbconvert_exporter": "python",
   "pygments_lexer": "ipython3",
   "version": "3.6.4"
  }
 },
 "nbformat": 4,
 "nbformat_minor": 2
}
