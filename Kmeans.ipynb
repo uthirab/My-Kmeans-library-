{
 "cells": [
  {
   "cell_type": "markdown",
   "metadata": {},
   "source": [
    "1. Run k-means on AT&T 100 images, set K=10. Obtain confusion matrix. Re-order the confusion matrix using bipartite graph matching and obtain accuracy.\n",
    "\n",
    "2. Run k-means on AT&T 400 images, set K=40. Obtain confusion matrix. Re-order the confusion matrix and obtain accuracy.\n",
    "\n",
    "3. Run k-means on Hand-written-letters data, set K=26, as above."
   ]
  },
  {
   "cell_type": "code",
   "execution_count": 1,
   "metadata": {},
   "outputs": [],
   "source": [
    "#my Kmeans\n",
    "import numpy as np\n",
    "import matplotlib.pyplot as plt\n",
    "import pandas as pd\n",
    "import math as m\n",
    "import seaborn as sb\n",
    "from random import randint\n",
    "from sklearn.preprocessing import LabelEncoder\n",
    "%matplotlib inline\n",
    "%matplotlib inline\n",
    "from sklearn.metrics import confusion_matrix\n",
    "from sklearn.metrics import accuracy_score\n",
    "import munkres\n",
    "from copy import deepcopy\n",
    "from sklearn.cluster import KMeans\n",
    "import os"
   ]
  },
  {
   "cell_type": "code",
   "execution_count": 2,
   "metadata": {},
   "outputs": [],
   "source": [
    "#pick Data from file\n",
    "def pickDataClass(filename, class_ids):\n",
    "    cwd = os.getcwd()  # Get the current working directory (cwd)\n",
    "    with open(filename,'r') as file:\n",
    "        lines=[line.split(',') for line in file]\n",
    "    for i in range(len(lines)):\n",
    "        lines[i][-1]=lines[i][-1].replace('\\n', '')\n",
    "    arr=np.asarray(lines)\n",
    "    arr=arr.transpose()\n",
    "    test_data, train_data=[],[]\n",
    "    for i in range(len(arr)):   \n",
    "        if str(arr[i][0]) in str(class_ids):\n",
    "            train_data.append(arr[i])\n",
    "            np.delete(arr,i,axis=0)\n",
    "        else:\n",
    "            test_data.append(arr[i])\n",
    "    return(arr,train_data, test_data)"
   ]
  },
  {
   "cell_type": "code",
   "execution_count": 3,
   "metadata": {},
   "outputs": [],
   "source": [
    "#store the selected data\n",
    "def store(train):\n",
    "    df=pd.DataFrame(train)\n",
    "    df.to_csv(\"train.csv\", index=None)\n"
   ]
  },
  {
   "cell_type": "code",
   "execution_count": 4,
   "metadata": {},
   "outputs": [],
   "source": [
    "#Read file and create input variable\n",
    "def readfile():\n",
    "    train1=pd.read_csv(\"train.csv\")\n",
    "    train=train1.iloc[:,1:]\n",
    "    X=np.array(train)\n",
    "    print(\"Size of X\")\n",
    "    print(X.shape)\n",
    "    y_true = np.array(train1.iloc[:,0])\n",
    "    print(\"Size of Y\")\n",
    "    print(y_true.shape)\n",
    "    return X, y_true"
   ]
  },
  {
   "cell_type": "code",
   "execution_count": 5,
   "metadata": {},
   "outputs": [],
   "source": [
    "#Kmeans\n",
    "def kmeans(size,X, y_true):\n",
    "    print(\"Size of the cluster= \"+str(size))\n",
    "    size=size\n",
    "    # Number of clusters\n",
    "    kmeans = KMeans(n_clusters=size)\n",
    "    # Fitting the input data\n",
    "    kmeans = kmeans.fit(X)\n",
    "    # Getting the cluster labels\n",
    "    labels = kmeans.predict(X)\n",
    "    for i in range(len(y_true)):\n",
    "        if y_true[i]==float(10):\n",
    "            y_true[i]=0.0\n",
    "    y_pred = labels\n",
    "    c=confusion_matrix(y_true, y_pred)\n",
    "    print(\"Size of confusion Matrix\")\n",
    "    print(np.shape(c))\n",
    "    print(\"Confusion Matrix\")\n",
    "    print(c)\n",
    "    c=c*-1\n",
    "    mun=munkres.Munkres()\n",
    "    result=mun.compute(c)\n",
    "    print(\"Bipartie Graph\")\n",
    "    print(result)\n",
    "    sample=deepcopy(y_pred)\n",
    "    for j in range(len(sample)):\n",
    "        for i in range(len(result)):\n",
    "            if sample[j]==result[i][1]:\n",
    "                y_pred[j]=result[i][0]\n",
    "                break\n",
    "    accuracy=(accuracy_score(y_true, y_pred))\n",
    "    print(\"Accuracy\")\n",
    "    print(accuracy)"
   ]
  },
  {
   "cell_type": "code",
   "execution_count": 6,
   "metadata": {},
   "outputs": [],
   "source": [
    "#function to take data according to need and store it\n",
    "def takeinput(li,filename):\n",
    "    arr,train, test= pickDataClass(filename,li)\n",
    "    store(train)"
   ]
  },
  {
   "cell_type": "code",
   "execution_count": 7,
   "metadata": {},
   "outputs": [],
   "source": [
    "#all the all the process together\n",
    "def printing(size,filename):\n",
    "    li=[i for i in range(1,size+1)]\n",
    "    filename=filename\n",
    "    takeinput(li,filename)\n",
    "    X,y_true=readfile()\n",
    "    kmeans(size,X, y_true)"
   ]
  },
  {
   "cell_type": "code",
   "execution_count": 8,
   "metadata": {},
   "outputs": [
    {
     "name": "stdout",
     "output_type": "stream",
     "text": [
      "Size of X\n",
      "(100, 644)\n",
      "Size of Y\n",
      "(100,)\n",
      "Size of the cluster= 10\n",
      "Size of confusion Matrix\n",
      "(10, 10)\n",
      "Confusion Matrix\n",
      "[[ 0  0  0  0  1  9  0  0  0  0]\n",
      " [ 0  0  0  2  0  0  0  0  7  1]\n",
      " [ 0  0  0 10  0  0  0  0  0  0]\n",
      " [ 5  0  0  0  0  0  0  5  0  0]\n",
      " [ 4  0  0  0  0  0  0  6  0  0]\n",
      " [ 0  0  0  0  0  0  0  0  0 10]\n",
      " [ 0  0 10  0  0  0  0  0  0  0]\n",
      " [ 0  0  0  0  0  0 10  0  0  0]\n",
      " [ 0  0  0  0 10  0  0  0  0  0]\n",
      " [ 0 10  0  0  0  0  0  0  0  0]]\n",
      "Bipartie Graph\n",
      "[(0, 5), (1, 8), (2, 3), (3, 0), (4, 7), (5, 9), (6, 2), (7, 6), (8, 4), (9, 1)]\n",
      "Accuracy\n",
      "0.87\n"
     ]
    }
   ],
   "source": [
    "printing(10,'ATNTFaceImages400.txt')"
   ]
  },
  {
   "cell_type": "code",
   "execution_count": 9,
   "metadata": {},
   "outputs": [
    {
     "name": "stdout",
     "output_type": "stream",
     "text": [
      "Size of X\n",
      "(400, 644)\n",
      "Size of Y\n",
      "(400,)\n",
      "Size of the cluster= 40\n",
      "Size of confusion Matrix\n",
      "(41, 41)\n",
      "Confusion Matrix\n",
      "[[0 0 0 ... 0 0 0]\n",
      " [0 0 0 ... 0 0 0]\n",
      " [0 0 0 ... 0 0 0]\n",
      " ...\n",
      " [0 0 0 ... 0 8 0]\n",
      " [0 0 0 ... 0 0 0]\n",
      " [0 0 0 ... 0 0 0]]\n",
      "Bipartie Graph\n",
      "[(0, 6), (1, 34), (2, 5), (3, 23), (4, 28), (5, 10), (6, 16), (7, 0), (8, 12), (9, 11), (10, 38), (11, 33), (12, 25), (13, 20), (14, 13), (15, 19), (16, 31), (17, 40), (18, 26), (19, 22), (20, 17), (21, 2), (22, 15), (23, 3), (24, 18), (25, 27), (26, 1), (27, 35), (28, 30), (29, 24), (30, 8), (31, 9), (32, 21), (33, 4), (34, 37), (35, 14), (36, 32), (37, 36), (38, 39), (39, 29), (40, 7)]\n",
      "Accuracy\n",
      "0.7075\n"
     ]
    }
   ],
   "source": [
    "printing(40,'ATNTFaceImages400.txt')"
   ]
  },
  {
   "cell_type": "code",
   "execution_count": 10,
   "metadata": {},
   "outputs": [
    {
     "name": "stdout",
     "output_type": "stream",
     "text": [
      "Size of X\n",
      "(1014, 320)\n",
      "Size of Y\n",
      "(1014,)\n",
      "Size of the cluster= 26\n",
      "Size of confusion Matrix\n",
      "(27, 27)\n",
      "Confusion Matrix\n",
      "[[ 0  0  0  0  0  0  0  0  2  0  0  0  0  1  0  0  0  0  4  0  0 21  0 11\n",
      "   0  0  0]\n",
      " [ 0  0  0  0  0  1  0 12  0  0  0  0  1  0  0 16  5  1  0  0  2  0  1  0\n",
      "   0  0  0]\n",
      " [ 0  0  0 11  1  1  0  0  0  2  0  0  0  1  0  0  2  1  0  0  0  0  0 15\n",
      "   0  5  0]\n",
      " [ 0  1  0  0  5  0 28  0  0  0  3  0  0  2  0  0  0  0  0  0  0  0  0  0\n",
      "   0  0  0]\n",
      " [ 0  4  0  0  1  0  0  0  5  0  0  2  3 10  0  0  0  1  0  0  3  0  0  0\n",
      "   0 10  0]\n",
      " [ 0  0  0 18 18  0  1  0  0  0  0  0  1  0  0  0  0  0  0  0  0  0  0  0\n",
      "   0  1  0]\n",
      " [ 0  0  0  1  0  0  0  0  0  0  0 16  1  0  0 11  9  1  0  0  0  0  0  0\n",
      "   0  0  0]\n",
      " [ 1  6  0  2  0  0  5  1  0  0  0  9  0  1  0  0  0  0  4  0  9  0  0  1\n",
      "   0  0  0]\n",
      " [ 2  0  4  0  0  0  0 18  0  0  0  0  0  0  1  4  0  0  0  0  0  0  6  0\n",
      "   4  0  0]\n",
      " [ 0  0  0  0  1  0  0  0 20  0  0  0  2  0  1  0  0  0  2  0  1 12  0  0\n",
      "   0  0  0]\n",
      " [ 0  0  0  0  0  0  0  0  0  0  0  0  0  0  0  0  0  0  0  0  0  0  0  0\n",
      "   0  0  0]\n",
      " [ 1  0  0  0  0 16  0  0  0  1  2  0  4  0  8  0  0  6  1  0  0  0  0  0\n",
      "   0  0  0]\n",
      " [ 0  1  0  0  6  2  0  0  0  0 20  0  9  0  0  0  0  1  0  0  0  0  0  0\n",
      "   0  0  0]\n",
      " [ 0  1  2  0  0  0  0  7  0  0  0  0  0  0  0  2  0  0  1  0  0  0 25  0\n",
      "   1  0  0]\n",
      " [ 2  1  2  0  0  1  0  4  0  0  0  0  0  0  0  3  0  0  1  0  0  0 15  0\n",
      "  10  0  0]\n",
      " [ 0 11  0  0  0  0  1  0  0  0  0  0  0 24  0  0  0  0  0  0  1  0  0  0\n",
      "   0  2  0]\n",
      " [ 0  3  0  0  0  0  0  0  0  0  0  4  0  0  0 11 18  0  0  0  3  0  0  0\n",
      "   0  0  0]\n",
      " [ 0  5  0  0  0  0  2  1  0  1  0  3  0  2  0  0  1  0  0  0 24  0  0  0\n",
      "   0  0  0]\n",
      " [ 0  0  0  0  2  0  0  0  0 19  0  1  3  0  1  3  9  0  0  0  1  0  0  0\n",
      "   0  0  0]\n",
      " [ 0  0  0  0  2  0  1  0  0  0  0  0  0  0  0  0  0  0  0 18  0  3  0 13\n",
      "   0  2  0]\n",
      " [ 1  0  0  0  1  0  1  0  6  0  0  2  2  0  0  3  0  0  8  0  0 13  0  1\n",
      "   0  1  0]\n",
      " [ 2  5 23  0  0  1  0  2  0  1  3  0  0  0  0  0  0  0  0  0  2  0  0  0\n",
      "   0  0  0]\n",
      " [25  0  1  0  0  0  0  1  0  0  1  0  0  0  0  0  0  0  8  0  0  0  0  0\n",
      "   3  0  0]\n",
      " [ 3  0 10  0  0  1  0  0  0  0  1  1  0  0  3  0  0  0  0  0  0  0  0  0\n",
      "  20  0  0]\n",
      " [ 1  0  0  0  0  4  0  0  0  0  0  0  0  0 21  1  0 10  2  0  0  0  0  0\n",
      "   0  0  0]\n",
      " [19  0  0  0  0  0  0  0  0  0  0  0  0  0  0  0  0  7  7  0  0  0  1  0\n",
      "   5  0  0]\n",
      " [ 0  0  0  0  0  0  0  0 25  0  0  0  3  0  0  0  0  0  0  0  0  2  0  0\n",
      "   0  9  0]]\n",
      "Bipartie Graph\n",
      "[(0, 21), (1, 15), (2, 23), (3, 6), (4, 25), (5, 3), (6, 11), (7, 1), (8, 7), (9, 12), (10, 26), (11, 5), (12, 10), (13, 22), (14, 4), (15, 13), (16, 16), (17, 20), (18, 9), (19, 19), (20, 18), (21, 2), (22, 0), (23, 24), (24, 14), (25, 17), (26, 8)]\n",
      "Accuracy\n",
      "0.4368836291913215\n"
     ]
    }
   ],
   "source": [
    "printing(26,'HandWrittenLetters.txt')"
   ]
  },
  {
   "cell_type": "code",
   "execution_count": null,
   "metadata": {},
   "outputs": [],
   "source": []
  }
 ],
 "metadata": {
  "kernelspec": {
   "display_name": "Python 3",
   "language": "python",
   "name": "python3"
  },
  "language_info": {
   "codemirror_mode": {
    "name": "ipython",
    "version": 3
   },
   "file_extension": ".py",
   "mimetype": "text/x-python",
   "name": "python",
   "nbconvert_exporter": "python",
   "pygments_lexer": "ipython3",
   "version": "3.6.4"
  }
 },
 "nbformat": 4,
 "nbformat_minor": 2
}
